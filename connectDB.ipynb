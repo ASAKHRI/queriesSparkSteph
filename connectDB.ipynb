{
 "cells": [
  {
   "cell_type": "code",
   "execution_count": 110,
   "metadata": {},
   "outputs": [],
   "source": [
    "import psycopg2\n",
    "import pyspark\n",
    "\n",
    "from pyspark.sql import SparkSession\n",
    "import pyspark.sql.functions as F\n",
    "from pyspark.sql.types import *"
   ]
  },
  {
   "cell_type": "code",
   "execution_count": 10,
   "metadata": {},
   "outputs": [],
   "source": [
    "conn = psycopg2.connect(    \n",
    "    host = \"10.0.21.134\", # ip de mon windows sur lequel est installé postgrés\n",
    "    dbname = \"Talend\",\n",
    "    user=\"postgres\",\n",
    "    password = \"admin\",\n",
    "    port = 5432\n",
    ")"
   ]
  },
  {
   "cell_type": "code",
   "execution_count": 13,
   "metadata": {},
   "outputs": [],
   "source": [
    "cur = conn.cursor()"
   ]
  },
  {
   "cell_type": "code",
   "execution_count": 15,
   "metadata": {},
   "outputs": [],
   "source": [
    "cur.execute(\"\"\"select * from clients;\"\"\")"
   ]
  },
  {
   "cell_type": "code",
   "execution_count": 16,
   "metadata": {},
   "outputs": [],
   "source": [
    "a = cur.fetchall()"
   ]
  },
  {
   "cell_type": "code",
   "execution_count": 17,
   "metadata": {},
   "outputs": [
    {
     "name": "stdout",
     "output_type": "stream",
     "text": [
      "[(1, 'Louise', 'Marie', datetime.datetime(1986, 1, 28, 0, 0), 35324, 1, 5), (2, 'Arthur', 'Guehery', datetime.datetime(1987, 1, 27, 0, 0), 32631, 2, 2), (3, 'Amine', 'Hanouna', datetime.datetime(1989, 7, 11, 0, 0), 17695, 2, 4), (4, 'Manon', 'Lafouine', datetime.datetime(1960, 3, 22, 0, 0), 33376, 1, 5), (5, 'Gabriel', 'Cortez', datetime.datetime(1956, 10, 6, 0, 0), 10264, 2, 1), (6, 'Alice', 'Bartez', datetime.datetime(1982, 3, 14, 0, 0), 99814, 1, 5), (7, 'Lea', 'Marcel', datetime.datetime(1992, 10, 9, 0, 0), 13376, 1, 8), (8, 'Handy', 'Orton', datetime.datetime(1967, 11, 15, 0, 0), 73376, 2, 4), (9, 'Kakou', 'Bernadette', datetime.datetime(1965, 8, 9, 0, 0), 53376, 1, 2), (10, 'Bea', 'Martine', datetime.datetime(1983, 10, 10, 0, 0), 35000, 1, 9), (11, 'Maurice', 'Greene', datetime.datetime(1984, 2, 8, 0, 0), 72000, 1, 10)]\n"
     ]
    }
   ],
   "source": [
    "print(a)"
   ]
  },
  {
   "cell_type": "code",
   "execution_count": 21,
   "metadata": {},
   "outputs": [],
   "source": [
    "conn.commit()"
   ]
  },
  {
   "cell_type": "code",
   "execution_count": 22,
   "metadata": {},
   "outputs": [],
   "source": [
    "cur = conn.cursor()\n",
    "cur.execute(\"\"\"CREATE TABLE IF NOT EXISTS florian2 (Id INT, Name VARCHAR(255));\"\"\")\n",
    "conn.commit()  # Assurez-vous de commit les changements"
   ]
  },
  {
   "cell_type": "code",
   "execution_count": 23,
   "metadata": {},
   "outputs": [],
   "source": [
    "cur.execute(\"\"\"\n",
    "            INSERT INTO florian2(Id, Name) VALUES\n",
    "            (1,'Mike'),\n",
    "            (2, 'Lise')            \n",
    "            \"\"\")"
   ]
  },
  {
   "cell_type": "code",
   "execution_count": 24,
   "metadata": {},
   "outputs": [],
   "source": [
    "conn.commit()"
   ]
  },
  {
   "cell_type": "markdown",
   "metadata": {},
   "source": [
    "# exercice brief stephane"
   ]
  },
  {
   "cell_type": "code",
   "execution_count": 26,
   "metadata": {},
   "outputs": [
    {
     "name": "stderr",
     "output_type": "stream",
     "text": [
      "your 131072x1 screen size is bogus. expect trouble\n",
      "24/09/11 11:40:54 WARN Utils: Your hostname, GIGABYTENEJ resolves to a loopback address: 127.0.1.1; using 10.255.255.254 instead (on interface lo)\n",
      "24/09/11 11:40:54 WARN Utils: Set SPARK_LOCAL_IP if you need to bind to another address\n",
      "Setting default log level to \"WARN\".\n",
      "To adjust logging level use sc.setLogLevel(newLevel). For SparkR, use setLogLevel(newLevel).\n",
      "24/09/11 11:40:55 WARN NativeCodeLoader: Unable to load native-hadoop library for your platform... using builtin-java classes where applicable\n"
     ]
    }
   ],
   "source": [
    "spark = SparkSession.builder.master(\"local[*]\").appName(\"MigrationExample\").getOrCreate()"
   ]
  },
  {
   "cell_type": "markdown",
   "metadata": {},
   "source": [
    "### creation du dataframe"
   ]
  },
  {
   "cell_type": "code",
   "execution_count": 27,
   "metadata": {},
   "outputs": [],
   "source": [
    "matrix = [\n",
    "[' Ricky', 4879320143, '2022-09-05 11:23:59', True],\n",
    "['Simon', 4879320143, '2022-09-05 11:23:59', True],\n",
    "['Sergio', 4879320143, '2022-09-05 11:23:59', True],\n",
    "['Pedrito', 4879320143, '2022-09-07 11:23:59', True],\n",
    "['jJuenito', 4879320143, '2022-09-08 11:23:59', True],\n",
    "['Pepe', 4879320143, '2022-09-09 11:23:59', True],\n",
    "['Liusa', 4879320143, '2022-09-05 11:23:59', True],\n",
    "]\n",
    "\n",
    "columns = ['name', 'dni', 'date', 'is_human']"
   ]
  },
  {
   "cell_type": "code",
   "execution_count": 28,
   "metadata": {},
   "outputs": [],
   "source": [
    "spark_df = spark.createDataFrame(matrix, columns)"
   ]
  },
  {
   "cell_type": "markdown",
   "metadata": {},
   "source": [
    "### ajout colonne constant et ajouter des données avec lit"
   ]
  },
  {
   "cell_type": "code",
   "execution_count": 29,
   "metadata": {},
   "outputs": [
    {
     "name": "stdout",
     "output_type": "stream",
     "text": [
      "+--------+----------+-------------------+--------+---------------+\n",
      "|    name|       dni|               date|is_human|constant\\_value|\n",
      "+--------+----------+-------------------+--------+---------------+\n",
      "|   Ricky|4879320143|2022-09-05 11:23:59|    true|              1|\n",
      "|   Simon|4879320143|2022-09-05 11:23:59|    true|              1|\n",
      "|  Sergio|4879320143|2022-09-05 11:23:59|    true|              1|\n",
      "| Pedrito|4879320143|2022-09-07 11:23:59|    true|              1|\n",
      "|jJuenito|4879320143|2022-09-08 11:23:59|    true|              1|\n",
      "|    Pepe|4879320143|2022-09-09 11:23:59|    true|              1|\n",
      "|   Liusa|4879320143|2022-09-05 11:23:59|    true|              1|\n",
      "+--------+----------+-------------------+--------+---------------+\n",
      "\n"
     ]
    }
   ],
   "source": [
    "df_with_constant = spark_df.withColumn( \"constant\\_value\", F.lit(1))\n",
    "df_with_constant.show()"
   ]
  },
  {
   "cell_type": "code",
   "execution_count": 36,
   "metadata": {},
   "outputs": [
    {
     "name": "stdout",
     "output_type": "stream",
     "text": [
      "root\n",
      " |-- name: string (nullable = true)\n",
      " |-- dni: long (nullable = true)\n",
      " |-- date: string (nullable = true)\n",
      " |-- is_human: boolean (nullable = true)\n",
      " |-- constant\\_value: integer (nullable = false)\n",
      "\n"
     ]
    }
   ],
   "source": [
    "df_with_constant.printSchema()"
   ]
  },
  {
   "cell_type": "markdown",
   "metadata": {},
   "source": [
    "### creation colonne avec condition"
   ]
  },
  {
   "cell_type": "code",
   "execution_count": 41,
   "metadata": {},
   "outputs": [
    {
     "name": "stdout",
     "output_type": "stream",
     "text": [
      "+--------+----------+-------------------+--------+---------------+------+\n",
      "|    name|       dni|               date|is_human|constant\\_value|status|\n",
      "+--------+----------+-------------------+--------+---------------+------+\n",
      "|   Ricky|4879320143|2022-09-05 11:23:59|    true|              1| young|\n",
      "|   Simon|4879320143|2022-09-05 11:23:59|    true|              1| young|\n",
      "|  Sergio|4879320143|2022-09-05 11:23:59|    true|              1| young|\n",
      "| Pedrito|4879320143|2022-09-07 11:23:59|    true|              1| young|\n",
      "|jJuenito|4879320143|2022-09-08 11:23:59|    true|              1| young|\n",
      "|    Pepe|4879320143|2022-09-09 11:23:59|    true|              1| young|\n",
      "|   Liusa|4879320143|2022-09-05 11:23:59|    true|              1| young|\n",
      "+--------+----------+-------------------+--------+---------------+------+\n",
      "\n"
     ]
    }
   ],
   "source": [
    "df = df_with_constant.withColumn(\"status\", F.when(df_with_constant.date >= \"32022-09-070\", \"old\").otherwise(\"young\"))\n",
    "df.show()"
   ]
  },
  {
   "cell_type": "markdown",
   "metadata": {},
   "source": [
    "### concatenation de 2 colonnes"
   ]
  },
  {
   "cell_type": "code",
   "execution_count": 42,
   "metadata": {},
   "outputs": [
    {
     "name": "stdout",
     "output_type": "stream",
     "text": [
      "+-------------------+\n",
      "|                arr|\n",
      "+-------------------+\n",
      "|4879320143youngtrue|\n",
      "|4879320143youngtrue|\n",
      "|4879320143youngtrue|\n",
      "|4879320143youngtrue|\n",
      "|4879320143youngtrue|\n",
      "|4879320143youngtrue|\n",
      "|4879320143youngtrue|\n",
      "+-------------------+\n",
      "\n"
     ]
    }
   ],
   "source": [
    "df2 = df.select(F.concat(df.dni, df.status, df.is_human).alias(\"arr\"))\n",
    "df2.show()"
   ]
  },
  {
   "cell_type": "markdown",
   "metadata": {},
   "source": [
    "### month, year, quarter: Extraire le mois, l'année et le trimestre"
   ]
  },
  {
   "cell_type": "code",
   "execution_count": 53,
   "metadata": {},
   "outputs": [
    {
     "name": "stdout",
     "output_type": "stream",
     "text": [
      "+--------+----------+-------------------+--------+---------------+-----+------+-------+\n",
      "|    name|       dni|               date|is_human|constant\\_value|years|months|quarter|\n",
      "+--------+----------+-------------------+--------+---------------+-----+------+-------+\n",
      "|   Ricky|4879320143|2022-09-05 11:23:59|    true|              1| 2022|     9|      3|\n",
      "|   Simon|4879320143|2022-09-05 11:23:59|    true|              1| 2022|     9|      3|\n",
      "|  Sergio|4879320143|2022-09-05 11:23:59|    true|              1| 2022|     9|      3|\n",
      "| Pedrito|4879320143|2022-09-07 11:23:59|    true|              1| 2022|     9|      3|\n",
      "|jJuenito|4879320143|2022-09-08 11:23:59|    true|              1| 2022|     9|      3|\n",
      "|    Pepe|4879320143|2022-09-09 11:23:59|    true|              1| 2022|     9|      3|\n",
      "|   Liusa|4879320143|2022-09-05 11:23:59|    true|              1| 2022|     9|      3|\n",
      "+--------+----------+-------------------+--------+---------------+-----+------+-------+\n",
      "\n"
     ]
    }
   ],
   "source": [
    "Df = df_with_constant.withColumn('years',F.year(F.to_timestamp('date','yyyy-MM-dd hh:mm:ss')))\\\n",
    "    .withColumn('months',F.month(F.to_timestamp('date','yyyy-MM-dd hh:mm:ss')))\\\n",
    "    .withColumn('quarter',F.quarter(F.to_timestamp('date','yyyy-MM-dd hh:mm:ss')))\n",
    "Df.show()"
   ]
  },
  {
   "cell_type": "markdown",
   "metadata": {},
   "source": [
    "### Abs et floor"
   ]
  },
  {
   "cell_type": "code",
   "execution_count": 62,
   "metadata": {},
   "outputs": [
    {
     "name": "stdout",
     "output_type": "stream",
     "text": [
      "+--------+----------+-------------------+--------+---------------+-----+------+-------+----------------+\n",
      "|    name|       dni|               date|is_human|constant\\_value|years|months|quarter|-constant\\_value|\n",
      "+--------+----------+-------------------+--------+---------------+-----+------+-------+----------------+\n",
      "|   Ricky|4879320143|2022-09-05 11:23:59|    true|              1| 2022|     9|      3|            -1.5|\n",
      "|   Simon|4879320143|2022-09-05 11:23:59|    true|              1| 2022|     9|      3|            -1.5|\n",
      "|  Sergio|4879320143|2022-09-05 11:23:59|    true|              1| 2022|     9|      3|            -1.5|\n",
      "| Pedrito|4879320143|2022-09-07 11:23:59|    true|              1| 2022|     9|      3|            -1.5|\n",
      "|jJuenito|4879320143|2022-09-08 11:23:59|    true|              1| 2022|     9|      3|            -1.5|\n",
      "|    Pepe|4879320143|2022-09-09 11:23:59|    true|              1| 2022|     9|      3|            -1.5|\n",
      "|   Liusa|4879320143|2022-09-05 11:23:59|    true|              1| 2022|     9|      3|            -1.5|\n",
      "+--------+----------+-------------------+--------+---------------+-----+------+-------+----------------+\n",
      "\n"
     ]
    }
   ],
   "source": [
    "Df = Df.withColumn( \"-constant\\_value\", F.lit(-1.5))\n",
    "Df.show()"
   ]
  },
  {
   "cell_type": "code",
   "execution_count": 63,
   "metadata": {},
   "outputs": [
    {
     "name": "stdout",
     "output_type": "stream",
     "text": [
      "+--------+----------+-------------------+--------+---------------+-----+------+-------+----------------+--------+\n",
      "|    name|       dni|               date|is_human|constant\\_value|years|months|quarter|-constant\\_value|AbsConst|\n",
      "+--------+----------+-------------------+--------+---------------+-----+------+-------+----------------+--------+\n",
      "|   Ricky|4879320143|2022-09-05 11:23:59|    true|              1| 2022|     9|      3|            -1.5|     1.5|\n",
      "|   Simon|4879320143|2022-09-05 11:23:59|    true|              1| 2022|     9|      3|            -1.5|     1.5|\n",
      "|  Sergio|4879320143|2022-09-05 11:23:59|    true|              1| 2022|     9|      3|            -1.5|     1.5|\n",
      "| Pedrito|4879320143|2022-09-07 11:23:59|    true|              1| 2022|     9|      3|            -1.5|     1.5|\n",
      "|jJuenito|4879320143|2022-09-08 11:23:59|    true|              1| 2022|     9|      3|            -1.5|     1.5|\n",
      "|    Pepe|4879320143|2022-09-09 11:23:59|    true|              1| 2022|     9|      3|            -1.5|     1.5|\n",
      "|   Liusa|4879320143|2022-09-05 11:23:59|    true|              1| 2022|     9|      3|            -1.5|     1.5|\n",
      "+--------+----------+-------------------+--------+---------------+-----+------+-------+----------------+--------+\n",
      "\n"
     ]
    }
   ],
   "source": [
    "DfAbs = Df.withColumn(\"AbsConst\", F.abs(\"-constant\\_value\"))\n",
    "DfAbs.show()"
   ]
  },
  {
   "cell_type": "code",
   "execution_count": 65,
   "metadata": {},
   "outputs": [
    {
     "name": "stdout",
     "output_type": "stream",
     "text": [
      "+--------+----------+-------------------+--------+---------------+-----+------+-------+----------------+--------+-----+\n",
      "|    name|       dni|               date|is_human|constant\\_value|years|months|quarter|-constant\\_value|AbsConst|Floor|\n",
      "+--------+----------+-------------------+--------+---------------+-----+------+-------+----------------+--------+-----+\n",
      "|   Ricky|4879320143|2022-09-05 11:23:59|    true|              1| 2022|     9|      3|            -1.5|     1.5|    1|\n",
      "|   Simon|4879320143|2022-09-05 11:23:59|    true|              1| 2022|     9|      3|            -1.5|     1.5|    1|\n",
      "|  Sergio|4879320143|2022-09-05 11:23:59|    true|              1| 2022|     9|      3|            -1.5|     1.5|    1|\n",
      "| Pedrito|4879320143|2022-09-07 11:23:59|    true|              1| 2022|     9|      3|            -1.5|     1.5|    1|\n",
      "|jJuenito|4879320143|2022-09-08 11:23:59|    true|              1| 2022|     9|      3|            -1.5|     1.5|    1|\n",
      "|    Pepe|4879320143|2022-09-09 11:23:59|    true|              1| 2022|     9|      3|            -1.5|     1.5|    1|\n",
      "|   Liusa|4879320143|2022-09-05 11:23:59|    true|              1| 2022|     9|      3|            -1.5|     1.5|    1|\n",
      "+--------+----------+-------------------+--------+---------------+-----+------+-------+----------------+--------+-----+\n",
      "\n"
     ]
    }
   ],
   "source": [
    "DfFloor = DfAbs.withColumn(\"Floor\",F.floor(\"AbsConst\"))\n",
    "DfFloor.show()"
   ]
  },
  {
   "cell_type": "markdown",
   "metadata": {},
   "source": [
    "### concat_ws"
   ]
  },
  {
   "cell_type": "code",
   "execution_count": 66,
   "metadata": {},
   "outputs": [
    {
     "name": "stdout",
     "output_type": "stream",
     "text": [
      "+--------+----------+-------------------+--------+---------------+-----+------+-------+----------------+--------+-----+---------------+\n",
      "|    name|       dni|               date|is_human|constant\\_value|years|months|quarter|-constant\\_value|AbsConst|Floor|humain-constant|\n",
      "+--------+----------+-------------------+--------+---------------+-----+------+-------+----------------+--------+-----+---------------+\n",
      "|   Ricky|4879320143|2022-09-05 11:23:59|    true|              1| 2022|     9|      3|            -1.5|     1.5|    1|       true-1.5|\n",
      "|   Simon|4879320143|2022-09-05 11:23:59|    true|              1| 2022|     9|      3|            -1.5|     1.5|    1|       true-1.5|\n",
      "|  Sergio|4879320143|2022-09-05 11:23:59|    true|              1| 2022|     9|      3|            -1.5|     1.5|    1|       true-1.5|\n",
      "| Pedrito|4879320143|2022-09-07 11:23:59|    true|              1| 2022|     9|      3|            -1.5|     1.5|    1|       true-1.5|\n",
      "|jJuenito|4879320143|2022-09-08 11:23:59|    true|              1| 2022|     9|      3|            -1.5|     1.5|    1|       true-1.5|\n",
      "|    Pepe|4879320143|2022-09-09 11:23:59|    true|              1| 2022|     9|      3|            -1.5|     1.5|    1|       true-1.5|\n",
      "|   Liusa|4879320143|2022-09-05 11:23:59|    true|              1| 2022|     9|      3|            -1.5|     1.5|    1|       true-1.5|\n",
      "+--------+----------+-------------------+--------+---------------+-----+------+-------+----------------+--------+-----+---------------+\n",
      "\n"
     ]
    }
   ],
   "source": [
    "DfConcatWs = DfFloor.withColumn(\"humain-constant\", F.concat_ws('-', DfFloor.is_human, DfFloor.AbsConst))\n",
    "DfConcatWs.show()"
   ]
  },
  {
   "cell_type": "markdown",
   "metadata": {},
   "source": [
    "### Array_distinct, collect_list, collect_set"
   ]
  },
  {
   "cell_type": "code",
   "execution_count": 68,
   "metadata": {},
   "outputs": [
    {
     "data": {
      "text/plain": [
       "[Row(array_distinct(data)=[1, 2, 3]), Row(array_distinct(data)=[4, 5])]"
      ]
     },
     "execution_count": 68,
     "metadata": {},
     "output_type": "execute_result"
    }
   ],
   "source": [
    "df = spark.createDataFrame([([1, 2, 3, 2],), ([4, 5, 5, 4],)], ['data'])\n",
    "df.select(F.array_distinct(df.data)).collect()"
   ]
  },
  {
   "cell_type": "code",
   "execution_count": null,
   "metadata": {},
   "outputs": [],
   "source": []
  },
  {
   "cell_type": "markdown",
   "metadata": {},
   "source": [
    "### split et trim"
   ]
  },
  {
   "cell_type": "code",
   "execution_count": 76,
   "metadata": {},
   "outputs": [
    {
     "name": "stdout",
     "output_type": "stream",
     "text": [
      "+--------+----------+-------------------+--------+---------------+-----+------+-------+----------------+--------+-----+---------------+----------------------+\n",
      "|name    |dni       |date               |is_human|constant\\_value|years|months|quarter|-constant\\_value|AbsConst|Floor|humain-constant|maxime                |\n",
      "+--------+----------+-------------------+--------+---------------+-----+------+-------+----------------+--------+-----+---------------+----------------------+\n",
      "| Ricky  |4879320143|2022-09-05 11:23:59|true    |1              |2022 |9     |3      |-1.5            |1.5     |1    |true-1.5       |[2022-09-05, 11:23:59]|\n",
      "|Simon   |4879320143|2022-09-05 11:23:59|true    |1              |2022 |9     |3      |-1.5            |1.5     |1    |true-1.5       |[2022-09-05, 11:23:59]|\n",
      "|Sergio  |4879320143|2022-09-05 11:23:59|true    |1              |2022 |9     |3      |-1.5            |1.5     |1    |true-1.5       |[2022-09-05, 11:23:59]|\n",
      "|Pedrito |4879320143|2022-09-07 11:23:59|true    |1              |2022 |9     |3      |-1.5            |1.5     |1    |true-1.5       |[2022-09-07, 11:23:59]|\n",
      "|jJuenito|4879320143|2022-09-08 11:23:59|true    |1              |2022 |9     |3      |-1.5            |1.5     |1    |true-1.5       |[2022-09-08, 11:23:59]|\n",
      "|Pepe    |4879320143|2022-09-09 11:23:59|true    |1              |2022 |9     |3      |-1.5            |1.5     |1    |true-1.5       |[2022-09-09, 11:23:59]|\n",
      "|Liusa   |4879320143|2022-09-05 11:23:59|true    |1              |2022 |9     |3      |-1.5            |1.5     |1    |true-1.5       |[2022-09-05, 11:23:59]|\n",
      "+--------+----------+-------------------+--------+---------------+-----+------+-------+----------------+--------+-----+---------------+----------------------+\n",
      "\n"
     ]
    }
   ],
   "source": [
    "splitDF = DfConcatWs.withColumn('maxime',F.split(DfConcatWs.date, ' ', 2))\n",
    "splitDF.show(truncate = False)"
   ]
  },
  {
   "cell_type": "code",
   "execution_count": 78,
   "metadata": {},
   "outputs": [
    {
     "name": "stdout",
     "output_type": "stream",
     "text": [
      "+--------+----------+-------------------+--------+---------------+-----+------+-------+----------------+--------+-----+---------------+--------+\n",
      "|name    |dni       |date               |is_human|constant\\_value|years|months|quarter|-constant\\_value|AbsConst|Floor|humain-constant|chems   |\n",
      "+--------+----------+-------------------+--------+---------------+-----+------+-------+----------------+--------+-----+---------------+--------+\n",
      "| Ricky  |4879320143|2022-09-05 11:23:59|true    |1              |2022 |9     |3      |-1.5            |1.5     |1    |true-1.5       |Ricky   |\n",
      "|Simon   |4879320143|2022-09-05 11:23:59|true    |1              |2022 |9     |3      |-1.5            |1.5     |1    |true-1.5       |Simon   |\n",
      "|Sergio  |4879320143|2022-09-05 11:23:59|true    |1              |2022 |9     |3      |-1.5            |1.5     |1    |true-1.5       |Sergio  |\n",
      "|Pedrito |4879320143|2022-09-07 11:23:59|true    |1              |2022 |9     |3      |-1.5            |1.5     |1    |true-1.5       |Pedrito |\n",
      "|jJuenito|4879320143|2022-09-08 11:23:59|true    |1              |2022 |9     |3      |-1.5            |1.5     |1    |true-1.5       |jJuenito|\n",
      "|Pepe    |4879320143|2022-09-09 11:23:59|true    |1              |2022 |9     |3      |-1.5            |1.5     |1    |true-1.5       |Pepe    |\n",
      "|Liusa   |4879320143|2022-09-05 11:23:59|true    |1              |2022 |9     |3      |-1.5            |1.5     |1    |true-1.5       |Liusa   |\n",
      "+--------+----------+-------------------+--------+---------------+-----+------+-------+----------------+--------+-----+---------------+--------+\n",
      "\n"
     ]
    }
   ],
   "source": [
    "trimDF = DfConcatWs.withColumn('chems',F.trim(DfConcatWs.name))\n",
    "trimDF.show(truncate = False)"
   ]
  },
  {
   "cell_type": "markdown",
   "metadata": {},
   "source": [
    "### explode"
   ]
  },
  {
   "cell_type": "code",
   "execution_count": 79,
   "metadata": {},
   "outputs": [],
   "source": [
    "data = [(\"John\", [\"apple\", \"banana\", \"orange\"]),\n",
    "(\"Alice\", [\"grape\", \"berry\"]),\n",
    "(\"Bob\", [\"melon\", \"peach\", \"kiwi\"])]\n",
    "\n",
    "df = spark.createDataFrame(data, [\"name\", \"fruits\"])"
   ]
  },
  {
   "cell_type": "code",
   "execution_count": 81,
   "metadata": {},
   "outputs": [
    {
     "name": "stdout",
     "output_type": "stream",
     "text": [
      "+-----+--------------------+\n",
      "| name|              fruits|\n",
      "+-----+--------------------+\n",
      "| John|[apple, banana, o...|\n",
      "|Alice|      [grape, berry]|\n",
      "|  Bob|[melon, peach, kiwi]|\n",
      "+-----+--------------------+\n",
      "\n"
     ]
    }
   ],
   "source": [
    "df.show()"
   ]
  },
  {
   "cell_type": "code",
   "execution_count": 82,
   "metadata": {},
   "outputs": [
    {
     "name": "stdout",
     "output_type": "stream",
     "text": [
      "+-----+------+\n",
      "| name| fruit|\n",
      "+-----+------+\n",
      "| John| apple|\n",
      "| John|banana|\n",
      "| John|orange|\n",
      "|Alice| grape|\n",
      "|Alice| berry|\n",
      "|  Bob| melon|\n",
      "|  Bob| peach|\n",
      "|  Bob|  kiwi|\n",
      "+-----+------+\n",
      "\n"
     ]
    }
   ],
   "source": [
    "exploded_df = df.select(df.name, F.explode(df.fruits).alias(\"fruit\"))\n",
    "exploded_df.show()"
   ]
  },
  {
   "cell_type": "markdown",
   "metadata": {},
   "source": [
    "### upper et lower"
   ]
  },
  {
   "cell_type": "code",
   "execution_count": 83,
   "metadata": {},
   "outputs": [
    {
     "name": "stdout",
     "output_type": "stream",
     "text": [
      "+--------+----------+-------------------+--------+---------------+-----+------+-------+----------------+--------+-----+---------------+--------+\n",
      "|NAME    |dni       |date               |is_human|constant\\_value|years|months|quarter|-constant\\_value|AbsConst|Floor|humain-constant|chems   |\n",
      "+--------+----------+-------------------+--------+---------------+-----+------+-------+----------------+--------+-----+---------------+--------+\n",
      "| RICKY  |4879320143|2022-09-05 11:23:59|true    |1              |2022 |9     |3      |-1.5            |1.5     |1    |true-1.5       |Ricky   |\n",
      "|SIMON   |4879320143|2022-09-05 11:23:59|true    |1              |2022 |9     |3      |-1.5            |1.5     |1    |true-1.5       |Simon   |\n",
      "|SERGIO  |4879320143|2022-09-05 11:23:59|true    |1              |2022 |9     |3      |-1.5            |1.5     |1    |true-1.5       |Sergio  |\n",
      "|PEDRITO |4879320143|2022-09-07 11:23:59|true    |1              |2022 |9     |3      |-1.5            |1.5     |1    |true-1.5       |Pedrito |\n",
      "|JJUENITO|4879320143|2022-09-08 11:23:59|true    |1              |2022 |9     |3      |-1.5            |1.5     |1    |true-1.5       |jJuenito|\n",
      "|PEPE    |4879320143|2022-09-09 11:23:59|true    |1              |2022 |9     |3      |-1.5            |1.5     |1    |true-1.5       |Pepe    |\n",
      "|LIUSA   |4879320143|2022-09-05 11:23:59|true    |1              |2022 |9     |3      |-1.5            |1.5     |1    |true-1.5       |Liusa   |\n",
      "+--------+----------+-------------------+--------+---------------+-----+------+-------+----------------+--------+-----+---------------+--------+\n",
      "\n"
     ]
    }
   ],
   "source": [
    "upperDf = trimDF.withColumn('NAME',F.upper(trimDF.name))\n",
    "upperDf.show(truncate = False)"
   ]
  },
  {
   "cell_type": "code",
   "execution_count": 87,
   "metadata": {},
   "outputs": [
    {
     "name": "stdout",
     "output_type": "stream",
     "text": [
      "+--------+----------+-------------------+--------+---------------+-----+------+-------+----------------+--------+-----+---------------+--------+---------+\n",
      "|NAME    |dni       |date               |is_human|constant\\_value|years|months|quarter|-constant\\_value|AbsConst|Floor|humain-constant|chems   |lowerName|\n",
      "+--------+----------+-------------------+--------+---------------+-----+------+-------+----------------+--------+-----+---------------+--------+---------+\n",
      "| RICKY  |4879320143|2022-09-05 11:23:59|true    |1              |2022 |9     |3      |-1.5            |1.5     |1    |true-1.5       |Ricky   | ricky   |\n",
      "|SIMON   |4879320143|2022-09-05 11:23:59|true    |1              |2022 |9     |3      |-1.5            |1.5     |1    |true-1.5       |Simon   |simon    |\n",
      "|SERGIO  |4879320143|2022-09-05 11:23:59|true    |1              |2022 |9     |3      |-1.5            |1.5     |1    |true-1.5       |Sergio  |sergio   |\n",
      "|PEDRITO |4879320143|2022-09-07 11:23:59|true    |1              |2022 |9     |3      |-1.5            |1.5     |1    |true-1.5       |Pedrito |pedrito  |\n",
      "|JJUENITO|4879320143|2022-09-08 11:23:59|true    |1              |2022 |9     |3      |-1.5            |1.5     |1    |true-1.5       |jJuenito|jjuenito |\n",
      "|PEPE    |4879320143|2022-09-09 11:23:59|true    |1              |2022 |9     |3      |-1.5            |1.5     |1    |true-1.5       |Pepe    |pepe     |\n",
      "|LIUSA   |4879320143|2022-09-05 11:23:59|true    |1              |2022 |9     |3      |-1.5            |1.5     |1    |true-1.5       |Liusa   |liusa    |\n",
      "+--------+----------+-------------------+--------+---------------+-----+------+-------+----------------+--------+-----+---------------+--------+---------+\n",
      "\n"
     ]
    }
   ],
   "source": [
    "lowerDf = upperDf.withColumn('lowerName',F.lower(upperDf.NAME))\n",
    "lowerDf.show(truncate = False)"
   ]
  },
  {
   "cell_type": "markdown",
   "metadata": {},
   "source": [
    "### select "
   ]
  },
  {
   "cell_type": "code",
   "execution_count": 94,
   "metadata": {},
   "outputs": [
    {
     "name": "stdout",
     "output_type": "stream",
     "text": [
      "+--------+--------+--------+\n",
      "|   chems|    name|is_human|\n",
      "+--------+--------+--------+\n",
      "|   Ricky|   RICKY|    true|\n",
      "|   Simon|   SIMON|    true|\n",
      "|  Sergio|  SERGIO|    true|\n",
      "| Pedrito| PEDRITO|    true|\n",
      "|jJuenito|JJUENITO|    true|\n",
      "|    Pepe|    PEPE|    true|\n",
      "|   Liusa|   LIUSA|    true|\n",
      "+--------+--------+--------+\n",
      "\n"
     ]
    }
   ],
   "source": [
    "upperDf.select(\"chems\",\"name\",\"is_human\").show()"
   ]
  },
  {
   "cell_type": "markdown",
   "metadata": {},
   "source": [
    "### withcolumn"
   ]
  },
  {
   "cell_type": "code",
   "execution_count": 97,
   "metadata": {},
   "outputs": [
    {
     "name": "stdout",
     "output_type": "stream",
     "text": [
      "+--------+----------+-------------------+--------+---------------+-----+------+-------+----------------+--------+-----+---------------+--------+---------+--------+\n",
      "|    NAME|       dni|               date|is_human|constant\\_value|years|months|quarter|-constant\\_value|AbsConst|Floor|humain-constant|   chems|lowerName|stephane|\n",
      "+--------+----------+-------------------+--------+---------------+-----+------+-------+----------------+--------+-----+---------------+--------+---------+--------+\n",
      "|   RICKY|4879320143|2022-09-05 11:23:59|    true|              1| 2022|     9|      3|            -1.5|     1.5|    1|       true-1.5|   Ricky|    ricky|   RICKY|\n",
      "|   SIMON|4879320143|2022-09-05 11:23:59|    true|              1| 2022|     9|      3|            -1.5|     1.5|    1|       true-1.5|   Simon|    simon|   SIMON|\n",
      "|  SERGIO|4879320143|2022-09-05 11:23:59|    true|              1| 2022|     9|      3|            -1.5|     1.5|    1|       true-1.5|  Sergio|   sergio|  SERGIO|\n",
      "| PEDRITO|4879320143|2022-09-07 11:23:59|    true|              1| 2022|     9|      3|            -1.5|     1.5|    1|       true-1.5| Pedrito|  pedrito| PEDRITO|\n",
      "|JJUENITO|4879320143|2022-09-08 11:23:59|    true|              1| 2022|     9|      3|            -1.5|     1.5|    1|       true-1.5|jJuenito| jjuenito|JJUENITO|\n",
      "|    PEPE|4879320143|2022-09-09 11:23:59|    true|              1| 2022|     9|      3|            -1.5|     1.5|    1|       true-1.5|    Pepe|     pepe|    PEPE|\n",
      "|   LIUSA|4879320143|2022-09-05 11:23:59|    true|              1| 2022|     9|      3|            -1.5|     1.5|    1|       true-1.5|   Liusa|    liusa|   LIUSA|\n",
      "+--------+----------+-------------------+--------+---------------+-----+------+-------+----------------+--------+-----+---------------+--------+---------+--------+\n",
      "\n"
     ]
    }
   ],
   "source": [
    "withCols = lowerDf.withColumn(\"stephane\", F.upper(lowerDf.lowerName))\n",
    "withCols.show()\n"
   ]
  },
  {
   "cell_type": "markdown",
   "metadata": {},
   "source": [
    "### withcolumnsRenamed"
   ]
  },
  {
   "cell_type": "code",
   "execution_count": 98,
   "metadata": {},
   "outputs": [
    {
     "name": "stdout",
     "output_type": "stream",
     "text": [
      "+--------+----------+-------------------+--------+---------------+-----+------+-------+----------------+--------+-----+---------------+--------+---------+--------+\n",
      "|    NAME|       DNI|               date|is_human|constant\\_value|years|months|quarter|-constant\\_value|AbsConst|Floor|humain-constant|   chems|lowerName|stephane|\n",
      "+--------+----------+-------------------+--------+---------------+-----+------+-------+----------------+--------+-----+---------------+--------+---------+--------+\n",
      "|   RICKY|4879320143|2022-09-05 11:23:59|    true|              1| 2022|     9|      3|            -1.5|     1.5|    1|       true-1.5|   Ricky|    ricky|   RICKY|\n",
      "|   SIMON|4879320143|2022-09-05 11:23:59|    true|              1| 2022|     9|      3|            -1.5|     1.5|    1|       true-1.5|   Simon|    simon|   SIMON|\n",
      "|  SERGIO|4879320143|2022-09-05 11:23:59|    true|              1| 2022|     9|      3|            -1.5|     1.5|    1|       true-1.5|  Sergio|   sergio|  SERGIO|\n",
      "| PEDRITO|4879320143|2022-09-07 11:23:59|    true|              1| 2022|     9|      3|            -1.5|     1.5|    1|       true-1.5| Pedrito|  pedrito| PEDRITO|\n",
      "|JJUENITO|4879320143|2022-09-08 11:23:59|    true|              1| 2022|     9|      3|            -1.5|     1.5|    1|       true-1.5|jJuenito| jjuenito|JJUENITO|\n",
      "|    PEPE|4879320143|2022-09-09 11:23:59|    true|              1| 2022|     9|      3|            -1.5|     1.5|    1|       true-1.5|    Pepe|     pepe|    PEPE|\n",
      "|   LIUSA|4879320143|2022-09-05 11:23:59|    true|              1| 2022|     9|      3|            -1.5|     1.5|    1|       true-1.5|   Liusa|    liusa|   LIUSA|\n",
      "+--------+----------+-------------------+--------+---------------+-----+------+-------+----------------+--------+-----+---------------+--------+---------+--------+\n",
      "\n"
     ]
    }
   ],
   "source": [
    "rené = withCols.withColumnRenamed('dni','DNI')\n",
    "rené.show()"
   ]
  },
  {
   "cell_type": "markdown",
   "metadata": {},
   "source": [
    "### drop"
   ]
  },
  {
   "cell_type": "code",
   "execution_count": 99,
   "metadata": {},
   "outputs": [
    {
     "name": "stdout",
     "output_type": "stream",
     "text": [
      "+--------+----------+-------------------+--------+---------------+-----+------+-------+----------------+-----+---------------+--------+---------+--------+\n",
      "|    NAME|       DNI|               date|is_human|constant\\_value|years|months|quarter|-constant\\_value|Floor|humain-constant|   chems|lowerName|stephane|\n",
      "+--------+----------+-------------------+--------+---------------+-----+------+-------+----------------+-----+---------------+--------+---------+--------+\n",
      "|   RICKY|4879320143|2022-09-05 11:23:59|    true|              1| 2022|     9|      3|            -1.5|    1|       true-1.5|   Ricky|    ricky|   RICKY|\n",
      "|   SIMON|4879320143|2022-09-05 11:23:59|    true|              1| 2022|     9|      3|            -1.5|    1|       true-1.5|   Simon|    simon|   SIMON|\n",
      "|  SERGIO|4879320143|2022-09-05 11:23:59|    true|              1| 2022|     9|      3|            -1.5|    1|       true-1.5|  Sergio|   sergio|  SERGIO|\n",
      "| PEDRITO|4879320143|2022-09-07 11:23:59|    true|              1| 2022|     9|      3|            -1.5|    1|       true-1.5| Pedrito|  pedrito| PEDRITO|\n",
      "|JJUENITO|4879320143|2022-09-08 11:23:59|    true|              1| 2022|     9|      3|            -1.5|    1|       true-1.5|jJuenito| jjuenito|JJUENITO|\n",
      "|    PEPE|4879320143|2022-09-09 11:23:59|    true|              1| 2022|     9|      3|            -1.5|    1|       true-1.5|    Pepe|     pepe|    PEPE|\n",
      "|   LIUSA|4879320143|2022-09-05 11:23:59|    true|              1| 2022|     9|      3|            -1.5|    1|       true-1.5|   Liusa|    liusa|   LIUSA|\n",
      "+--------+----------+-------------------+--------+---------------+-----+------+-------+----------------+-----+---------------+--------+---------+--------+\n",
      "\n"
     ]
    }
   ],
   "source": [
    "renée = rené.drop(\"AbsConst\")\n",
    "renée.show()"
   ]
  },
  {
   "cell_type": "markdown",
   "metadata": {},
   "source": [
    "### join"
   ]
  },
  {
   "cell_type": "code",
   "execution_count": 100,
   "metadata": {},
   "outputs": [
    {
     "name": "stderr",
     "output_type": "stream",
     "text": [
      "24/09/11 15:24:36 WARN SparkStringUtils: Truncated the string representation of a plan since it was too large. This behavior can be adjusted by setting 'spark.sql.debug.maxToStringFields'.\n"
     ]
    },
    {
     "name": "stdout",
     "output_type": "stream",
     "text": [
      "+--------+----------+-------------------+--------+---------------+-----+------+-------+----------------+--------+-----+---------------+--------+---------+--------+--------+----------+-------------------+--------+---------------+-----+------+-------+----------------+-----+---------------+--------+---------+--------+\n",
      "|    NAME|       DNI|               date|is_human|constant\\_value|years|months|quarter|-constant\\_value|AbsConst|Floor|humain-constant|   chems|lowerName|stephane|    NAME|       DNI|               date|is_human|constant\\_value|years|months|quarter|-constant\\_value|Floor|humain-constant|   chems|lowerName|stephane|\n",
      "+--------+----------+-------------------+--------+---------------+-----+------+-------+----------------+--------+-----+---------------+--------+---------+--------+--------+----------+-------------------+--------+---------------+-----+------+-------+----------------+-----+---------------+--------+---------+--------+\n",
      "|   RICKY|4879320143|2022-09-05 11:23:59|    true|              1| 2022|     9|      3|            -1.5|     1.5|    1|       true-1.5|   Ricky|    ricky|   RICKY|   RICKY|4879320143|2022-09-05 11:23:59|    true|              1| 2022|     9|      3|            -1.5|    1|       true-1.5|   Ricky|    ricky|   RICKY|\n",
      "|JJUENITO|4879320143|2022-09-08 11:23:59|    true|              1| 2022|     9|      3|            -1.5|     1.5|    1|       true-1.5|jJuenito| jjuenito|JJUENITO|JJUENITO|4879320143|2022-09-08 11:23:59|    true|              1| 2022|     9|      3|            -1.5|    1|       true-1.5|jJuenito| jjuenito|JJUENITO|\n",
      "|   LIUSA|4879320143|2022-09-05 11:23:59|    true|              1| 2022|     9|      3|            -1.5|     1.5|    1|       true-1.5|   Liusa|    liusa|   LIUSA|   LIUSA|4879320143|2022-09-05 11:23:59|    true|              1| 2022|     9|      3|            -1.5|    1|       true-1.5|   Liusa|    liusa|   LIUSA|\n",
      "| PEDRITO|4879320143|2022-09-07 11:23:59|    true|              1| 2022|     9|      3|            -1.5|     1.5|    1|       true-1.5| Pedrito|  pedrito| PEDRITO| PEDRITO|4879320143|2022-09-07 11:23:59|    true|              1| 2022|     9|      3|            -1.5|    1|       true-1.5| Pedrito|  pedrito| PEDRITO|\n",
      "|    PEPE|4879320143|2022-09-09 11:23:59|    true|              1| 2022|     9|      3|            -1.5|     1.5|    1|       true-1.5|    Pepe|     pepe|    PEPE|    PEPE|4879320143|2022-09-09 11:23:59|    true|              1| 2022|     9|      3|            -1.5|    1|       true-1.5|    Pepe|     pepe|    PEPE|\n",
      "|  SERGIO|4879320143|2022-09-05 11:23:59|    true|              1| 2022|     9|      3|            -1.5|     1.5|    1|       true-1.5|  Sergio|   sergio|  SERGIO|  SERGIO|4879320143|2022-09-05 11:23:59|    true|              1| 2022|     9|      3|            -1.5|    1|       true-1.5|  Sergio|   sergio|  SERGIO|\n",
      "|   SIMON|4879320143|2022-09-05 11:23:59|    true|              1| 2022|     9|      3|            -1.5|     1.5|    1|       true-1.5|   Simon|    simon|   SIMON|   SIMON|4879320143|2022-09-05 11:23:59|    true|              1| 2022|     9|      3|            -1.5|    1|       true-1.5|   Simon|    simon|   SIMON|\n",
      "+--------+----------+-------------------+--------+---------------+-----+------+-------+----------------+--------+-----+---------------+--------+---------+--------+--------+----------+-------------------+--------+---------------+-----+------+-------+----------------+-----+---------------+--------+---------+--------+\n",
      "\n"
     ]
    }
   ],
   "source": [
    "rené.join(renée, rené.NAME == renée.NAME, \"inner\").show()"
   ]
  },
  {
   "cell_type": "markdown",
   "metadata": {},
   "source": [
    "### groupby et agg"
   ]
  },
  {
   "cell_type": "code",
   "execution_count": 101,
   "metadata": {},
   "outputs": [
    {
     "name": "stdout",
     "output_type": "stream",
     "text": [
      "+--------+----------+-------------------+--------+---------------+-----+------+-------+----------------+--------+-----+---------------+--------+---------+--------+----+\n",
      "|    NAME|       DNI|               date|is_human|constant\\_value|years|months|quarter|-constant\\_value|AbsConst|Floor|humain-constant|   chems|lowerName|stephane|jour|\n",
      "+--------+----------+-------------------+--------+---------------+-----+------+-------+----------------+--------+-----+---------------+--------+---------+--------+----+\n",
      "|   RICKY|4879320143|2022-09-05 11:23:59|    true|              1| 2022|     9|      3|            -1.5|     1.5|    1|       true-1.5|   Ricky|    ricky|   RICKY|   5|\n",
      "|   SIMON|4879320143|2022-09-05 11:23:59|    true|              1| 2022|     9|      3|            -1.5|     1.5|    1|       true-1.5|   Simon|    simon|   SIMON|   5|\n",
      "|  SERGIO|4879320143|2022-09-05 11:23:59|    true|              1| 2022|     9|      3|            -1.5|     1.5|    1|       true-1.5|  Sergio|   sergio|  SERGIO|   5|\n",
      "| PEDRITO|4879320143|2022-09-07 11:23:59|    true|              1| 2022|     9|      3|            -1.5|     1.5|    1|       true-1.5| Pedrito|  pedrito| PEDRITO|   7|\n",
      "|JJUENITO|4879320143|2022-09-08 11:23:59|    true|              1| 2022|     9|      3|            -1.5|     1.5|    1|       true-1.5|jJuenito| jjuenito|JJUENITO|   8|\n",
      "|    PEPE|4879320143|2022-09-09 11:23:59|    true|              1| 2022|     9|      3|            -1.5|     1.5|    1|       true-1.5|    Pepe|     pepe|    PEPE|   9|\n",
      "|   LIUSA|4879320143|2022-09-05 11:23:59|    true|              1| 2022|     9|      3|            -1.5|     1.5|    1|       true-1.5|   Liusa|    liusa|   LIUSA|   5|\n",
      "+--------+----------+-------------------+--------+---------------+-----+------+-------+----------------+--------+-----+---------------+--------+---------+--------+----+\n",
      "\n"
     ]
    }
   ],
   "source": [
    " # créer d'abord une colonne jour pour faire mon groupby dessus\n",
    " \n",
    "renéDaté = rené.withColumn('jour',F.day(F.to_timestamp('date','yyyy-MM-dd hh:mm:ss')))\n",
    "renéDaté.show()"
   ]
  },
  {
   "cell_type": "code",
   "execution_count": 103,
   "metadata": {},
   "outputs": [
    {
     "name": "stdout",
     "output_type": "stream",
     "text": [
      "+----+----------+\n",
      "|jour|sum(Floor)|\n",
      "+----+----------+\n",
      "|   5|         4|\n",
      "|   7|         1|\n",
      "|   8|         1|\n",
      "|   9|         1|\n",
      "+----+----------+\n",
      "\n"
     ]
    }
   ],
   "source": [
    "renéGroupé = renéDaté.groupBy(renéDaté.jour).agg({\"Floor\":\"sum\"})\n",
    "renéGroupé.show()"
   ]
  },
  {
   "cell_type": "markdown",
   "metadata": {},
   "source": [
    "### drop duplicates"
   ]
  },
  {
   "cell_type": "code",
   "execution_count": 104,
   "metadata": {},
   "outputs": [
    {
     "name": "stdout",
     "output_type": "stream",
     "text": [
      "+--------+----------+-------------------+--------+---------------+-----+------+-------+----------------+--------+-----+---------------+--------+---------+--------+\n",
      "|    NAME|       DNI|               date|is_human|constant\\_value|years|months|quarter|-constant\\_value|AbsConst|Floor|humain-constant|   chems|lowerName|stephane|\n",
      "+--------+----------+-------------------+--------+---------------+-----+------+-------+----------------+--------+-----+---------------+--------+---------+--------+\n",
      "|   RICKY|4879320143|2022-09-05 11:23:59|    true|              1| 2022|     9|      3|            -1.5|     1.5|    1|       true-1.5|   Ricky|    ricky|   RICKY|\n",
      "|   SIMON|4879320143|2022-09-05 11:23:59|    true|              1| 2022|     9|      3|            -1.5|     1.5|    1|       true-1.5|   Simon|    simon|   SIMON|\n",
      "|  SERGIO|4879320143|2022-09-05 11:23:59|    true|              1| 2022|     9|      3|            -1.5|     1.5|    1|       true-1.5|  Sergio|   sergio|  SERGIO|\n",
      "| PEDRITO|4879320143|2022-09-07 11:23:59|    true|              1| 2022|     9|      3|            -1.5|     1.5|    1|       true-1.5| Pedrito|  pedrito| PEDRITO|\n",
      "|JJUENITO|4879320143|2022-09-08 11:23:59|    true|              1| 2022|     9|      3|            -1.5|     1.5|    1|       true-1.5|jJuenito| jjuenito|JJUENITO|\n",
      "|    PEPE|4879320143|2022-09-09 11:23:59|    true|              1| 2022|     9|      3|            -1.5|     1.5|    1|       true-1.5|    Pepe|     pepe|    PEPE|\n",
      "|   LIUSA|4879320143|2022-09-05 11:23:59|    true|              1| 2022|     9|      3|            -1.5|     1.5|    1|       true-1.5|   Liusa|    liusa|   LIUSA|\n",
      "+--------+----------+-------------------+--------+---------------+-----+------+-------+----------------+--------+-----+---------------+--------+---------+--------+\n",
      "\n"
     ]
    }
   ],
   "source": [
    "deduplicates = rené.dropDuplicates()\n",
    "deduplicates.show()"
   ]
  },
  {
   "cell_type": "markdown",
   "metadata": {},
   "source": [
    "### where filter"
   ]
  },
  {
   "cell_type": "code",
   "execution_count": 105,
   "metadata": {},
   "outputs": [
    {
     "name": "stdout",
     "output_type": "stream",
     "text": [
      "+----+---+----+--------+---------------+-----+------+-------+----------------+--------+-----+---------------+-----+---------+--------+\n",
      "|NAME|DNI|date|is_human|constant\\_value|years|months|quarter|-constant\\_value|AbsConst|Floor|humain-constant|chems|lowerName|stephane|\n",
      "+----+---+----+--------+---------------+-----+------+-------+----------------+--------+-----+---------------+-----+---------+--------+\n",
      "+----+---+----+--------+---------------+-----+------+-------+----------------+--------+-----+---------------+-----+---------+--------+\n",
      "\n"
     ]
    }
   ],
   "source": [
    "filtreDf  = deduplicates.filter(deduplicates.DNI != 4879320143)\n",
    "filtreDf.show()"
   ]
  },
  {
   "cell_type": "markdown",
   "metadata": {},
   "source": [
    "### when"
   ]
  },
  {
   "cell_type": "code",
   "execution_count": 106,
   "metadata": {},
   "outputs": [
    {
     "name": "stdout",
     "output_type": "stream",
     "text": [
      "+--------+----------+-------------------+--------+---------------+-----+------+-------+----------------+--------+-----+---------------+--------+---------+--------+------+\n",
      "|    NAME|       DNI|               date|is_human|constant\\_value|years|months|quarter|-constant\\_value|AbsConst|Floor|humain-constant|   chems|lowerName|stephane|STATUS|\n",
      "+--------+----------+-------------------+--------+---------------+-----+------+-------+----------------+--------+-----+---------------+--------+---------+--------+------+\n",
      "|   RICKY|4879320143|2022-09-05 11:23:59|    true|              1| 2022|     9|      3|            -1.5|     1.5|    1|       true-1.5|   Ricky|    ricky|   RICKY| GAMIN|\n",
      "|   SIMON|4879320143|2022-09-05 11:23:59|    true|              1| 2022|     9|      3|            -1.5|     1.5|    1|       true-1.5|   Simon|    simon|   SIMON| GAMIN|\n",
      "|  SERGIO|4879320143|2022-09-05 11:23:59|    true|              1| 2022|     9|      3|            -1.5|     1.5|    1|       true-1.5|  Sergio|   sergio|  SERGIO| GAMIN|\n",
      "| PEDRITO|4879320143|2022-09-07 11:23:59|    true|              1| 2022|     9|      3|            -1.5|     1.5|    1|       true-1.5| Pedrito|  pedrito| PEDRITO| GAMIN|\n",
      "|JJUENITO|4879320143|2022-09-08 11:23:59|    true|              1| 2022|     9|      3|            -1.5|     1.5|    1|       true-1.5|jJuenito| jjuenito|JJUENITO| GAMIN|\n",
      "|    PEPE|4879320143|2022-09-09 11:23:59|    true|              1| 2022|     9|      3|            -1.5|     1.5|    1|       true-1.5|    Pepe|     pepe|    PEPE| GAMIN|\n",
      "|   LIUSA|4879320143|2022-09-05 11:23:59|    true|              1| 2022|     9|      3|            -1.5|     1.5|    1|       true-1.5|   Liusa|    liusa|   LIUSA| GAMIN|\n",
      "+--------+----------+-------------------+--------+---------------+-----+------+-------+----------------+--------+-----+---------------+--------+---------+--------+------+\n",
      "\n"
     ]
    }
   ],
   "source": [
    "df88 = rené.withColumn(\"STATUS\", F.when(rené.date >= \"32022-09-070\", \"old\").otherwise(\"GAMIN\"))\n",
    "df88.show()"
   ]
  },
  {
   "cell_type": "markdown",
   "metadata": {},
   "source": [
    "### astype"
   ]
  },
  {
   "cell_type": "code",
   "execution_count": 112,
   "metadata": {},
   "outputs": [
    {
     "name": "stdout",
     "output_type": "stream",
     "text": [
      "root\n",
      " |-- NAME: string (nullable = true)\n",
      " |-- DNI: long (nullable = true)\n",
      " |-- date: string (nullable = true)\n",
      " |-- is_human: boolean (nullable = true)\n",
      " |-- constant\\_value: integer (nullable = false)\n",
      " |-- years: integer (nullable = true)\n",
      " |-- months: integer (nullable = true)\n",
      " |-- quarter: integer (nullable = true)\n",
      " |-- -constant\\_value: double (nullable = false)\n",
      " |-- AbsConst: double (nullable = false)\n",
      " |-- Floor: long (nullable = true)\n",
      " |-- humain-constant: string (nullable = false)\n",
      " |-- chems: string (nullable = true)\n",
      " |-- lowerName: string (nullable = true)\n",
      " |-- stephane: string (nullable = true)\n",
      "\n"
     ]
    }
   ],
   "source": [
    "rené.printSchema()"
   ]
  },
  {
   "cell_type": "code",
   "execution_count": 116,
   "metadata": {},
   "outputs": [
    {
     "name": "stdout",
     "output_type": "stream",
     "text": [
      "root\n",
      " |-- NAME: string (nullable = true)\n",
      " |-- DNI: long (nullable = true)\n",
      " |-- date: string (nullable = true)\n",
      " |-- is_human: boolean (nullable = true)\n",
      " |-- constant\\_value: integer (nullable = false)\n",
      " |-- years: integer (nullable = true)\n",
      " |-- months: integer (nullable = true)\n",
      " |-- quarter: integer (nullable = true)\n",
      " |-- -constant\\_value: double (nullable = false)\n",
      " |-- AbsConst: double (nullable = false)\n",
      " |-- Floor: long (nullable = true)\n",
      " |-- humain-constant: string (nullable = false)\n",
      " |-- chems: string (nullable = true)\n",
      " |-- lowerName: string (nullable = true)\n",
      " |-- stephane: string (nullable = true)\n",
      " |-- DNII: integer (nullable = true)\n",
      "\n"
     ]
    }
   ],
   "source": [
    "intDni = rené.withColumn(\"DNII\", rené.DNI.cast(IntegerType()))\n",
    "intDni.printSchema()"
   ]
  },
  {
   "cell_type": "markdown",
   "metadata": {},
   "source": [
    "### isin"
   ]
  },
  {
   "cell_type": "code",
   "execution_count": 122,
   "metadata": {},
   "outputs": [
    {
     "name": "stdout",
     "output_type": "stream",
     "text": [
      "+--------+----------+-------------------+--------+---------------+-----+------+-------+----------------+--------+-----+---------------+--------+---------+--------+-----+\n",
      "|    NAME|       DNI|               date|is_human|constant\\_value|years|months|quarter|-constant\\_value|AbsConst|Floor|humain-constant|   chems|lowerName|stephane|Rname|\n",
      "+--------+----------+-------------------+--------+---------------+-----+------+-------+----------------+--------+-----+---------------+--------+---------+--------+-----+\n",
      "|   RICKY|4879320143|2022-09-05 11:23:59|    true|              1| 2022|     9|      3|            -1.5|     1.5|    1|       true-1.5|   Ricky|    ricky|   RICKY|false|\n",
      "|   SIMON|4879320143|2022-09-05 11:23:59|    true|              1| 2022|     9|      3|            -1.5|     1.5|    1|       true-1.5|   Simon|    simon|   SIMON|false|\n",
      "|  SERGIO|4879320143|2022-09-05 11:23:59|    true|              1| 2022|     9|      3|            -1.5|     1.5|    1|       true-1.5|  Sergio|   sergio|  SERGIO|false|\n",
      "| PEDRITO|4879320143|2022-09-07 11:23:59|    true|              1| 2022|     9|      3|            -1.5|     1.5|    1|       true-1.5| Pedrito|  pedrito| PEDRITO| true|\n",
      "|JJUENITO|4879320143|2022-09-08 11:23:59|    true|              1| 2022|     9|      3|            -1.5|     1.5|    1|       true-1.5|jJuenito| jjuenito|JJUENITO|false|\n",
      "|    PEPE|4879320143|2022-09-09 11:23:59|    true|              1| 2022|     9|      3|            -1.5|     1.5|    1|       true-1.5|    Pepe|     pepe|    PEPE| true|\n",
      "|   LIUSA|4879320143|2022-09-05 11:23:59|    true|              1| 2022|     9|      3|            -1.5|     1.5|    1|       true-1.5|   Liusa|    liusa|   LIUSA|false|\n",
      "+--------+----------+-------------------+--------+---------------+-----+------+-------+----------------+--------+-----+---------------+--------+---------+--------+-----+\n",
      "\n"
     ]
    }
   ],
   "source": [
    "renéné = rené.withColumn('Rname', rené.NAME.isin('PEDRITO','PEPE'))\n",
    "renéné.show()"
   ]
  },
  {
   "cell_type": "markdown",
   "metadata": {},
   "source": [
    "### lower upper dans mon cas"
   ]
  },
  {
   "cell_type": "code",
   "execution_count": 123,
   "metadata": {},
   "outputs": [
    {
     "name": "stdout",
     "output_type": "stream",
     "text": [
      "+--------+----------+-------------------+--------+---------------+-----+------+-------+----------------+--------+-----+---------------+--------+---------+\n",
      "|NAME    |dni       |date               |is_human|constant\\_value|years|months|quarter|-constant\\_value|AbsConst|Floor|humain-constant|chems   |lowerName|\n",
      "+--------+----------+-------------------+--------+---------------+-----+------+-------+----------------+--------+-----+---------------+--------+---------+\n",
      "| RICKY  |4879320143|2022-09-05 11:23:59|true    |1              |2022 |9     |3      |-1.5            |1.5     |1    |true-1.5       |Ricky   |TRUE     |\n",
      "|SIMON   |4879320143|2022-09-05 11:23:59|true    |1              |2022 |9     |3      |-1.5            |1.5     |1    |true-1.5       |Simon   |TRUE     |\n",
      "|SERGIO  |4879320143|2022-09-05 11:23:59|true    |1              |2022 |9     |3      |-1.5            |1.5     |1    |true-1.5       |Sergio  |TRUE     |\n",
      "|PEDRITO |4879320143|2022-09-07 11:23:59|true    |1              |2022 |9     |3      |-1.5            |1.5     |1    |true-1.5       |Pedrito |TRUE     |\n",
      "|JJUENITO|4879320143|2022-09-08 11:23:59|true    |1              |2022 |9     |3      |-1.5            |1.5     |1    |true-1.5       |jJuenito|TRUE     |\n",
      "|PEPE    |4879320143|2022-09-09 11:23:59|true    |1              |2022 |9     |3      |-1.5            |1.5     |1    |true-1.5       |Pepe    |TRUE     |\n",
      "|LIUSA   |4879320143|2022-09-05 11:23:59|true    |1              |2022 |9     |3      |-1.5            |1.5     |1    |true-1.5       |Liusa   |TRUE     |\n",
      "+--------+----------+-------------------+--------+---------------+-----+------+-------+----------------+--------+-----+---------------+--------+---------+\n",
      "\n"
     ]
    }
   ],
   "source": [
    "erné = lowerDf.withColumn('lowerName',F.upper(lowerDf.is_human))\n",
    "erné.show(truncate = False)"
   ]
  },
  {
   "cell_type": "markdown",
   "metadata": {},
   "source": [
    "### alias"
   ]
  },
  {
   "cell_type": "code",
   "execution_count": 130,
   "metadata": {},
   "outputs": [
    {
     "data": {
      "text/plain": [
       "[Row(is_human2=True),\n",
       " Row(is_human2=True),\n",
       " Row(is_human2=True),\n",
       " Row(is_human2=True),\n",
       " Row(is_human2=True),\n",
       " Row(is_human2=True),\n",
       " Row(is_human2=True)]"
      ]
     },
     "execution_count": 130,
     "metadata": {},
     "output_type": "execute_result"
    }
   ],
   "source": [
    "erné.select(erné.is_human.alias('is_human2')).collect()"
   ]
  },
  {
   "cell_type": "markdown",
   "metadata": {},
   "source": [
    "### isnull"
   ]
  },
  {
   "cell_type": "code",
   "execution_count": 131,
   "metadata": {},
   "outputs": [
    {
     "data": {
      "text/plain": [
       "[]"
      ]
     },
     "execution_count": 131,
     "metadata": {},
     "output_type": "execute_result"
    }
   ],
   "source": [
    "erné.filter(erné.is_human.isNull()).collect()"
   ]
  },
  {
   "cell_type": "markdown",
   "metadata": {},
   "source": [
    "### like et rlike"
   ]
  },
  {
   "cell_type": "code",
   "execution_count": 132,
   "metadata": {},
   "outputs": [
    {
     "name": "stdout",
     "output_type": "stream",
     "text": [
      "+-------+----------+-------------------+--------+---------------+-----+------+-------+----------------+--------+-----+---------------+-------+---------+\n",
      "|   NAME|       dni|               date|is_human|constant\\_value|years|months|quarter|-constant\\_value|AbsConst|Floor|humain-constant|  chems|lowerName|\n",
      "+-------+----------+-------------------+--------+---------------+-----+------+-------+----------------+--------+-----+---------------+-------+---------+\n",
      "|PEDRITO|4879320143|2022-09-07 11:23:59|    true|              1| 2022|     9|      3|            -1.5|     1.5|    1|       true-1.5|Pedrito|     TRUE|\n",
      "|   PEPE|4879320143|2022-09-09 11:23:59|    true|              1| 2022|     9|      3|            -1.5|     1.5|    1|       true-1.5|   Pepe|     TRUE|\n",
      "+-------+----------+-------------------+--------+---------------+-----+------+-------+----------------+--------+-----+---------------+-------+---------+\n",
      "\n"
     ]
    }
   ],
   "source": [
    "# like\n",
    "likeP = erné.filter(erné.NAME.like('P%'))\n",
    "likeP.show()"
   ]
  },
  {
   "cell_type": "code",
   "execution_count": 134,
   "metadata": {},
   "outputs": [
    {
     "name": "stdout",
     "output_type": "stream",
     "text": [
      "+----+----------+-------------------+--------+---------------+-----+------+-------+----------------+--------+-----+---------------+-----+---------+\n",
      "|NAME|       dni|               date|is_human|constant\\_value|years|months|quarter|-constant\\_value|AbsConst|Floor|humain-constant|chems|lowerName|\n",
      "+----+----------+-------------------+--------+---------------+-----+------+-------+----------------+--------+-----+---------------+-----+---------+\n",
      "|PEPE|4879320143|2022-09-09 11:23:59|    true|              1| 2022|     9|      3|            -1.5|     1.5|    1|       true-1.5| Pepe|     TRUE|\n",
      "+----+----------+-------------------+--------+---------------+-----+------+-------+----------------+--------+-----+---------------+-----+---------+\n",
      "\n"
     ]
    }
   ],
   "source": [
    "# rlike\n",
    "erné.filter(F.col(\"NAME\")\n",
    "    .rlike(\"(?i)^*PE$\")\n",
    "  ).show()"
   ]
  },
  {
   "cell_type": "markdown",
   "metadata": {},
   "source": [
    "### regexp_replace"
   ]
  },
  {
   "cell_type": "code",
   "execution_count": null,
   "metadata": {},
   "outputs": [],
   "source": [
    "new_df = erné.withColumn(\"New_Comments\", F.regexp_replace(\"NAME\", \"SIMON\", \"MONSI\"))\n",
    "new_df.show()"
   ]
  },
  {
   "cell_type": "markdown",
   "metadata": {},
   "source": [
    "### str.contains"
   ]
  },
  {
   "cell_type": "code",
   "execution_count": null,
   "metadata": {},
   "outputs": [],
   "source": [
    "new_filtered_df = new_df.filter(F.col(\"NAME\").contains(\"RICKY\"))\n",
    "new_filtered_df.show()"
   ]
  },
  {
   "cell_type": "markdown",
   "metadata": {},
   "source": [
    "### différence entre collect et show"
   ]
  },
  {
   "cell_type": "markdown",
   "metadata": {},
   "source": [
    "_ collect : recupère toutes les données du jeu et les renvoie au driver (utiles sur des petites jeux de données, mais déconseillé pour les gros jeux car risque de surcharge de la mémoire) \\\n",
    "_ show permet d'afficher un nombre de lignes limité sur la console (IDE terminal) elle ne renvoie pas les données au driver => moins gourmand en resosurces"
   ]
  },
  {
   "cell_type": "markdown",
   "metadata": {},
   "source": [
    "### différence entre RDD et count()"
   ]
  },
  {
   "cell_type": "markdown",
   "metadata": {},
   "source": [
    "_ RDD structude de données de base de spark => collection d'éléments pouvant être traités en parrallèle \\\n",
    "_ count est une action qui permet d'obtenir le nombre d'élément contenu dans un ensemble de données"
   ]
  },
  {
   "cell_type": "markdown",
   "metadata": {},
   "source": []
  }
 ],
 "metadata": {
  "kernelspec": {
   "display_name": "Python 3",
   "language": "python",
   "name": "python3"
  },
  "language_info": {
   "codemirror_mode": {
    "name": "ipython",
    "version": 3
   },
   "file_extension": ".py",
   "mimetype": "text/x-python",
   "name": "python",
   "nbconvert_exporter": "python",
   "pygments_lexer": "ipython3",
   "version": "3.8.12"
  }
 },
 "nbformat": 4,
 "nbformat_minor": 2
}
